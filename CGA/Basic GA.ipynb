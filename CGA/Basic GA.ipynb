{
 "cells": [
  {
   "cell_type": "markdown",
   "metadata": {},
   "source": [
    "# Import Packages"
   ]
  },
  {
   "cell_type": "code",
   "execution_count": 6,
   "metadata": {},
   "outputs": [],
   "source": [
    "import random\n",
    "import time"
   ]
  },
  {
   "cell_type": "markdown",
   "metadata": {},
   "source": [
    "# Parameters"
   ]
  },
  {
   "cell_type": "code",
   "execution_count": 7,
   "metadata": {},
   "outputs": [],
   "source": [
    "population_size = 100\n",
    "gene_length = 4\n",
    "num_generations = 50\n",
    "mutation_rate = 0.1"
   ]
  },
  {
   "cell_type": "markdown",
   "metadata": {},
   "source": [
    "# Initialize population"
   ]
  },
  {
   "cell_type": "code",
   "execution_count": 8,
   "metadata": {},
   "outputs": [],
   "source": [
    "def initialize_population(population_size, gene_length):\n",
    "    population = []\n",
    "    for _ in range(population_size):\n",
    "        individual = [random.randint(0, 1) for _ in range(gene_length)]\n",
    "        population.append(individual)\n",
    "    return population"
   ]
  },
  {
   "cell_type": "markdown",
   "metadata": {},
   "source": [
    "# Example fitness function"
   ]
  },
  {
   "cell_type": "code",
   "execution_count": 9,
   "metadata": {},
   "outputs": [],
   "source": [
    "def fitness_function(individual):\n",
    "    return sum(individual)"
   ]
  },
  {
   "cell_type": "markdown",
   "metadata": {},
   "source": [
    "# Function to select parents using tournament selection"
   ]
  },
  {
   "cell_type": "code",
   "execution_count": 10,
   "metadata": {},
   "outputs": [],
   "source": [
    "def select_parents(population, num_parents):\n",
    "    parents = []\n",
    "    tournament_size = 3\n",
    "    for _ in range(num_parents):\n",
    "        tournament = random.sample(population, tournament_size)\n",
    "        parents.append(max(tournament, key=fitness_function))\n",
    "    return parents"
   ]
  },
  {
   "cell_type": "markdown",
   "metadata": {},
   "source": [
    "# Function to perform crossover (single-point crossover)"
   ]
  },
  {
   "cell_type": "code",
   "execution_count": 11,
   "metadata": {},
   "outputs": [],
   "source": [
    "def crossover(parents, num_offspring):\n",
    "    offspring = []\n",
    "    for _ in range(num_offspring):\n",
    "        parent1, parent2 = random.sample(parents, 2)\n",
    "        crossover_point = random.randint(1, len(parent1) - 1)\n",
    "        child = parent1[:crossover_point] + parent2[crossover_point:]\n",
    "        offspring.append(child)\n",
    "    return offspring"
   ]
  },
  {
   "cell_type": "markdown",
   "metadata": {},
   "source": [
    "# Function to perform mutation (bit flip mutation)"
   ]
  },
  {
   "cell_type": "code",
   "execution_count": 12,
   "metadata": {},
   "outputs": [],
   "source": [
    "def mutate(offspring, mutation_rate):\n",
    "    for child in offspring:\n",
    "        for i in range(len(child)):\n",
    "            if random.random() < mutation_rate:\n",
    "                child[i] = 1 - child[i]\n",
    "    return offspring"
   ]
  },
  {
   "cell_type": "markdown",
   "metadata": {},
   "source": [
    "# Genetic Algorithm"
   ]
  },
  {
   "cell_type": "code",
   "execution_count": 13,
   "metadata": {},
   "outputs": [
    {
     "name": "stdout",
     "output_type": "stream",
     "text": [
      "Generation 1: Best Individual - [1, 1, 1, 1] Fitness - 4\n",
      "Generation 2: Best Individual - [1, 1, 1, 1] Fitness - 4\n",
      "Generation 3: Best Individual - [1, 1, 1, 1] Fitness - 4\n",
      "Generation 4: Best Individual - [1, 1, 1, 1] Fitness - 4\n",
      "Generation 5: Best Individual - [1, 1, 1, 1] Fitness - 4\n",
      "Generation 6: Best Individual - [1, 1, 1, 1] Fitness - 4\n",
      "Generation 7: Best Individual - [1, 1, 1, 1] Fitness - 4\n",
      "Generation 8: Best Individual - [1, 1, 1, 1] Fitness - 4\n",
      "Generation 9: Best Individual - [1, 1, 1, 1] Fitness - 4\n",
      "Generation 10: Best Individual - [1, 1, 1, 1] Fitness - 4\n",
      "Generation 11: Best Individual - [1, 1, 1, 1] Fitness - 4\n",
      "Generation 12: Best Individual - [1, 1, 1, 1] Fitness - 4\n",
      "Generation 13: Best Individual - [1, 1, 1, 1] Fitness - 4\n",
      "Generation 14: Best Individual - [1, 1, 1, 1] Fitness - 4\n",
      "Generation 15: Best Individual - [1, 1, 1, 1] Fitness - 4\n",
      "Generation 16: Best Individual - [1, 1, 1, 1] Fitness - 4\n",
      "Generation 17: Best Individual - [1, 1, 1, 1] Fitness - 4\n",
      "Generation 18: Best Individual - [1, 1, 1, 1] Fitness - 4\n",
      "Generation 19: Best Individual - [1, 1, 1, 1] Fitness - 4\n",
      "Generation 20: Best Individual - [1, 1, 1, 1] Fitness - 4\n",
      "Generation 21: Best Individual - [1, 1, 1, 1] Fitness - 4\n",
      "Generation 22: Best Individual - [1, 1, 1, 1] Fitness - 4\n",
      "Generation 23: Best Individual - [1, 1, 1, 1] Fitness - 4\n",
      "Generation 24: Best Individual - [1, 1, 1, 1] Fitness - 4\n",
      "Generation 25: Best Individual - [1, 1, 1, 1] Fitness - 4\n",
      "Generation 26: Best Individual - [1, 1, 1, 1] Fitness - 4\n",
      "Generation 27: Best Individual - [1, 1, 1, 1] Fitness - 4\n",
      "Generation 28: Best Individual - [1, 1, 1, 1] Fitness - 4\n",
      "Generation 29: Best Individual - [1, 1, 1, 1] Fitness - 4\n",
      "Generation 30: Best Individual - [1, 1, 1, 1] Fitness - 4\n",
      "Generation 31: Best Individual - [1, 1, 1, 1] Fitness - 4\n",
      "Generation 32: Best Individual - [1, 1, 1, 1] Fitness - 4\n",
      "Generation 33: Best Individual - [1, 1, 1, 1] Fitness - 4\n",
      "Generation 34: Best Individual - [1, 1, 1, 1] Fitness - 4\n",
      "Generation 35: Best Individual - [1, 1, 1, 1] Fitness - 4\n",
      "Generation 36: Best Individual - [1, 1, 1, 1] Fitness - 4\n",
      "Generation 37: Best Individual - [1, 1, 1, 1] Fitness - 4\n",
      "Generation 38: Best Individual - [1, 1, 1, 1] Fitness - 4\n",
      "Generation 39: Best Individual - [1, 1, 1, 1] Fitness - 4\n",
      "Generation 40: Best Individual - [1, 1, 1, 1] Fitness - 4\n",
      "Generation 41: Best Individual - [1, 1, 1, 1] Fitness - 4\n",
      "Generation 42: Best Individual - [1, 1, 1, 1] Fitness - 4\n",
      "Generation 43: Best Individual - [1, 1, 1, 1] Fitness - 4\n",
      "Generation 44: Best Individual - [1, 1, 1, 1] Fitness - 4\n",
      "Generation 45: Best Individual - [1, 1, 1, 1] Fitness - 4\n",
      "Generation 46: Best Individual - [1, 1, 1, 1] Fitness - 4\n",
      "Generation 47: Best Individual - [1, 1, 1, 1] Fitness - 4\n",
      "Generation 48: Best Individual - [1, 1, 1, 1] Fitness - 4\n",
      "Generation 49: Best Individual - [1, 1, 1, 1] Fitness - 4\n",
      "Generation 50: Best Individual - [1, 1, 1, 1] Fitness - 4\n"
     ]
    }
   ],
   "source": [
    "# Timer start\n",
    "start_time = time.time()\n",
    "\n",
    "population = initialize_population(population_size, gene_length)\n",
    "for generation in range(num_generations):\n",
    "        # Calculate fitness of each individual\n",
    "        fitness_scores = [fitness_function(individual) for individual in population]\n",
    "        # Select parents\n",
    "        parents = select_parents(population, num_parents=2)\n",
    "        # Perform crossover to create offspring\n",
    "        offspring = crossover(parents, num_offspring=population_size - len(parents))\n",
    "        # Perform mutation on offspring\n",
    "        offspring = mutate(offspring, mutation_rate)\n",
    "        # Replace old population with offspring\n",
    "        population = parents + offspring\n",
    "        # Print best individual in this generation\n",
    "        best_individual = max(population, key=fitness_function)\n",
    "        print(\n",
    "            f\"Generation {generation + 1}: Best Individual - {best_individual} Fitness - {fitness_function(best_individual)}\"\n",
    "        )\n",
    "\n",
    "# Timer end\n",
    "end_time = time.time()  # Record the end time"
   ]
  },
  {
   "cell_type": "markdown",
   "metadata": {},
   "source": [
    "# Execution time"
   ]
  },
  {
   "cell_type": "code",
   "execution_count": 14,
   "metadata": {},
   "outputs": [
    {
     "name": "stdout",
     "output_type": "stream",
     "text": [
      "Genetic Algorithm finished in 0.03 seconds.\n"
     ]
    }
   ],
   "source": [
    "elapsed_time = end_time - start_time  # Calculate the elapsed time\n",
    "print(f\"Genetic Algorithm finished in {elapsed_time:.2f} seconds.\")"
   ]
  }
 ],
 "metadata": {
  "kernelspec": {
   "display_name": "5IABD_Quantum",
   "language": "python",
   "name": "python3"
  },
  "language_info": {
   "codemirror_mode": {
    "name": "ipython",
    "version": 3
   },
   "file_extension": ".py",
   "mimetype": "text/x-python",
   "name": "python",
   "nbconvert_exporter": "python",
   "pygments_lexer": "ipython3",
   "version": "3.11.5"
  }
 },
 "nbformat": 4,
 "nbformat_minor": 2
}
