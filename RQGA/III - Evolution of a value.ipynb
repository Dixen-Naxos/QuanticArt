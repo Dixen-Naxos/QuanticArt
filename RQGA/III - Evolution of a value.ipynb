{
 "cells": [
  {
   "cell_type": "markdown",
   "source": [
    "# Reduced Quantum Genetic Algorithm With Multiple generations"
   ],
   "metadata": {
    "collapsed": false
   },
   "id": "635716d9d4e436dc"
  },
  {
   "cell_type": "code",
   "execution_count": 1,
   "id": "initial_id",
   "metadata": {
    "collapsed": true,
    "ExecuteTime": {
     "end_time": "2023-10-21T09:32:45.729799800Z",
     "start_time": "2023-10-21T09:32:44.225336100Z"
    }
   },
   "outputs": [],
   "source": [
    "from RQGA import rqga\n",
    "import numpy as np"
   ]
  },
  {
   "cell_type": "code",
   "execution_count": 2,
   "outputs": [
    {
     "name": "stdout",
     "output_type": "stream",
     "text": [
      "[[10, 30, 28], [26, 0, 23], [22, 16, 15], [20, 13, 22], [20, 24, 12], [23, 28, 29]]\n",
      "[[10, 13, 28], [18, 0, 23], [23, 15, 15], [18, 15, 18], [10, 19, 24], [13, 29, 29]]\n",
      "[[10, 14, 28], [16, 4, 27], [12, 7, 15], [18, 15, 18], [8, 19, 24], [15, 29, 25]]\n",
      "[[20, 16, 27], [12, 13, 19], [12, 16, 17], [9, 23, 18], [6, 18, 18], [23, 29, 18]]\n",
      "[[20, 16, 19], [20, 13, 21], [12, 16, 17], [4, 23, 24], [16, 18, 9], [17, 30, 16]]\n",
      "[[20, 8, 13], [22, 22, 21], [21, 8, 26], [12, 17, 19], [15, 18, 9], [9, 20, 16]]\n",
      "[[20, 12, 6], [18, 27, 21], [10, 14, 28], [7, 9, 7], [15, 18, 10], [9, 20, 16]]\n",
      "[[20, 12, 6], [11, 13, 26], [10, 15, 14], [10, 9, 7], [18, 18, 12], [8, 13, 8]]\n",
      "[[7, 15, 9], [14, 21, 16], [11, 13, 20], [10, 20, 21], [17, 16, 18], [8, 13, 8]]\n",
      "[[8, 21, 5], [22, 21, 12], [11, 12, 20], [20, 20, 21], [24, 16, 6], [4, 13, 4]]\n",
      "[[5, 14, 2], [15, 21, 11], [11, 12, 20], [24, 20, 21], [20, 16, 14], [4, 18, 4]]\n"
     ]
    }
   ],
   "source": [
    "list_vertex = [\n",
    "    [np.random.randint(0, 31), np.random.randint(0, 31), np.random.randint(0, 31)],\n",
    "    [np.random.randint(0, 31), np.random.randint(0, 31), np.random.randint(0, 31)],\n",
    "    [np.random.randint(0, 31), np.random.randint(0, 31), np.random.randint(0, 31)],\n",
    "    [np.random.randint(0, 31), np.random.randint(0, 31), np.random.randint(0, 31)],\n",
    "    [np.random.randint(0, 31), np.random.randint(0, 31), np.random.randint(0, 31)],\n",
    "    [np.random.randint(0, 31), np.random.randint(0, 31), np.random.randint(0, 31)],\n",
    "]\n",
    "print(list_vertex)\n",
    "\n",
    "for _ in range(10):\n",
    "    for i in range(len(list_vertex)):\n",
    "        for j in range(3):\n",
    "            list_vertex[i][j] = rqga(list_vertex[i][j])\n",
    "    print(list_vertex)"
   ],
   "metadata": {
    "collapsed": false,
    "ExecuteTime": {
     "end_time": "2023-10-21T09:32:47.544438800Z",
     "start_time": "2023-10-21T09:32:45.728802800Z"
    }
   },
   "id": "4ae5d16d113c1f97"
  }
 ],
 "metadata": {
  "kernelspec": {
   "display_name": "Python 3",
   "language": "python",
   "name": "python3"
  },
  "language_info": {
   "codemirror_mode": {
    "name": "ipython",
    "version": 2
   },
   "file_extension": ".py",
   "mimetype": "text/x-python",
   "name": "python",
   "nbconvert_exporter": "python",
   "pygments_lexer": "ipython2",
   "version": "2.7.6"
  }
 },
 "nbformat": 4,
 "nbformat_minor": 5
}
