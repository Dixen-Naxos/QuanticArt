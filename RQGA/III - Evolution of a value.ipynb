{
 "cells": [
  {
   "cell_type": "markdown",
   "source": [
    "# Reduced Quantum Genetic Algorithm With Multiple generations"
   ],
   "metadata": {
    "collapsed": false
   },
   "id": "635716d9d4e436dc"
  },
  {
   "cell_type": "code",
   "execution_count": 2,
   "id": "initial_id",
   "metadata": {
    "collapsed": true,
    "ExecuteTime": {
     "end_time": "2023-12-10T18:33:12.104673900Z",
     "start_time": "2023-12-10T18:33:11.402315400Z"
    }
   },
   "outputs": [],
   "source": [
    "from RQGA import rqga\n",
    "import numpy as np"
   ]
  },
  {
   "cell_type": "code",
   "execution_count": 4,
   "outputs": [
    {
     "name": "stdout",
     "output_type": "stream",
     "text": [
      "[[17, 7, 2], [18, 0, 28], [3, 25, 0], [14, 3, 29], [25, 11, 20], [14, 27, 17]]\n",
      "[[17, 7, 2], [18, 0, 28], [3, 25, 0], [14, 3, 29], [25, 11, 20], [14, 27, 17]]\n",
      "[[17, 7, 2], [18, 0, 28], [3, 25, 0], [14, 3, 29], [25, 11, 20], [14, 27, 17]]\n",
      "[[17, 7, 2], [18, 0, 28], [3, 25, 0], [14, 3, 29], [25, 11, 20], [14, 27, 17]]\n",
      "[[17, 7, 2], [18, 0, 28], [3, 25, 0], [14, 3, 29], [25, 11, 20], [14, 27, 17]]\n",
      "[[17, 7, 2], [18, 0, 28], [3, 25, 0], [14, 3, 29], [25, 11, 20], [14, 27, 17]]\n",
      "[[17, 7, 2], [18, 0, 28], [3, 25, 0], [14, 3, 29], [25, 11, 20], [14, 27, 17]]\n",
      "[[17, 7, 2], [18, 0, 28], [3, 25, 0], [14, 3, 29], [25, 11, 20], [14, 27, 17]]\n",
      "[[17, 7, 2], [18, 0, 28], [3, 25, 0], [14, 3, 29], [25, 11, 20], [14, 27, 17]]\n",
      "[[17, 7, 2], [18, 0, 28], [3, 25, 0], [14, 3, 29], [25, 11, 20], [14, 27, 17]]\n",
      "[[17, 7, 2], [18, 0, 28], [3, 25, 0], [14, 3, 29], [25, 11, 20], [14, 27, 17]]\n"
     ]
    }
   ],
   "source": [
    "list_vertex = [\n",
    "    [np.random.randint(0, 31), np.random.randint(0, 31), np.random.randint(0, 31)],\n",
    "    [np.random.randint(0, 31), np.random.randint(0, 31), np.random.randint(0, 31)],\n",
    "    [np.random.randint(0, 31), np.random.randint(0, 31), np.random.randint(0, 31)],\n",
    "    [np.random.randint(0, 31), np.random.randint(0, 31), np.random.randint(0, 31)],\n",
    "    [np.random.randint(0, 31), np.random.randint(0, 31), np.random.randint(0, 31)],\n",
    "    [np.random.randint(0, 31), np.random.randint(0, 31), np.random.randint(0, 31)],\n",
    "]\n",
    "print(list_vertex)\n",
    "\n",
    "for _ in range(10):\n",
    "    for i in range(len(list_vertex)):\n",
    "        for j in range(3):\n",
    "            list_vertex[i][j] = rqga(list_vertex[i][j], 5)\n",
    "    print(list_vertex)"
   ],
   "metadata": {
    "collapsed": false,
    "ExecuteTime": {
     "end_time": "2023-12-10T18:33:39.871544100Z",
     "start_time": "2023-12-10T18:33:37.090355300Z"
    }
   },
   "id": "4ae5d16d113c1f97"
  },
  {
   "cell_type": "code",
   "execution_count": null,
   "outputs": [],
   "source": [],
   "metadata": {
    "collapsed": false
   },
   "id": "5fe176d5648cf603"
  }
 ],
 "metadata": {
  "kernelspec": {
   "display_name": "Python 3",
   "language": "python",
   "name": "python3"
  },
  "language_info": {
   "codemirror_mode": {
    "name": "ipython",
    "version": 2
   },
   "file_extension": ".py",
   "mimetype": "text/x-python",
   "name": "python",
   "nbconvert_exporter": "python",
   "pygments_lexer": "ipython2",
   "version": "2.7.6"
  }
 },
 "nbformat": 4,
 "nbformat_minor": 5
}
