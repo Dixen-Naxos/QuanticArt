{
 "cells": [
  {
   "cell_type": "markdown",
   "source": [
    "# Reduced Quantum Genetic Algorithm With Multiple generations"
   ],
   "metadata": {
    "collapsed": false
   },
   "id": "635716d9d4e436dc"
  },
  {
   "cell_type": "code",
   "execution_count": 3,
   "id": "initial_id",
   "metadata": {
    "collapsed": true,
    "ExecuteTime": {
     "end_time": "2023-10-19T20:35:36.374447300Z",
     "start_time": "2023-10-19T20:35:36.353528200Z"
    }
   },
   "outputs": [],
   "source": [
    "from RQGA import rqga\n",
    "import numpy as np"
   ]
  },
  {
   "cell_type": "code",
   "execution_count": 6,
   "outputs": [
    {
     "name": "stdout",
     "output_type": "stream",
     "text": [
      "[[17, 9, 8], [17, 16, 17], [9, 17, 2], [7, 18, 18], [6, 4, 7], [16, 18, 7]]\n",
      "[[17, 9, 0], [17, 16, 17], [9, 17, 2], [7, 18, 18], [6, 4, 7], [16, 18, 7]]\n",
      "[[17, 9, 63], [17, 16, 17], [9, 17, 2], [7, 18, 18], [6, 4, 7], [16, 18, 7]]\n",
      "[[17, 0, 63], [17, 16, 17], [9, 17, 2], [7, 18, 18], [6, 0, 7], [16, 18, 7]]\n",
      "[[17, 0, 0], [17, 16, 17], [9, 17, 2], [7, 18, 18], [6, 0, 7], [16, 18, 7]]\n",
      "[[17, 0, 16], [17, 16, 17], [9, 0, 2], [7, 18, 18], [6, 0, 7], [0, 18, 7]]\n",
      "[[17, 0, 0], [17, 16, 17], [9, 0, 2], [7, 18, 18], [6, 63, 7], [0, 18, 7]]\n",
      "[[17, 63, 63], [17, 16, 17], [9, 63, 0], [7, 18, 18], [6, 63, 7], [0, 18, 7]]\n",
      "[[17, 0, 63], [17, 16, 17], [9, 0, 0], [7, 18, 18], [6, 0, 7], [63, 18, 7]]\n",
      "[[17, 63, 63], [17, 16, 17], [9, 63, 0], [7, 18, 18], [6, 63, 7], [63, 18, 7]]\n",
      "[[17, 63, 0], [17, 0, 0], [9, 31, 0], [7, 18, 18], [6, 63, 7], [0, 18, 7]]\n"
     ]
    }
   ],
   "source": [
    "list_vertex = [\n",
    "    [np.random.randint(0, 20), np.random.randint(0, 20), np.random.randint(0, 20)],\n",
    "    [np.random.randint(0, 20), np.random.randint(0, 20), np.random.randint(0, 20)],\n",
    "    [np.random.randint(0, 20), np.random.randint(0, 20), np.random.randint(0, 20)],\n",
    "    [np.random.randint(0, 20), np.random.randint(0, 20), np.random.randint(0, 20)],\n",
    "    [np.random.randint(0, 20), np.random.randint(0, 20), np.random.randint(0, 20)],\n",
    "    [np.random.randint(0, 20), np.random.randint(0, 20), np.random.randint(0, 20)],\n",
    "]\n",
    "print(list_vertex)\n",
    "\n",
    "for _ in range(10):\n",
    "    for i in range(len(list_vertex)):\n",
    "        for j in range(3):\n",
    "            list_vertex[i][j] = rqga(list_vertex[i][j])\n",
    "    print(list_vertex)"
   ],
   "metadata": {
    "collapsed": false,
    "ExecuteTime": {
     "end_time": "2023-10-19T20:36:15.156506600Z",
     "start_time": "2023-10-19T20:36:10.470397100Z"
    }
   },
   "id": "4ae5d16d113c1f97"
  }
 ],
 "metadata": {
  "kernelspec": {
   "display_name": "Python 3",
   "language": "python",
   "name": "python3"
  },
  "language_info": {
   "codemirror_mode": {
    "name": "ipython",
    "version": 2
   },
   "file_extension": ".py",
   "mimetype": "text/x-python",
   "name": "python",
   "nbconvert_exporter": "python",
   "pygments_lexer": "ipython2",
   "version": "2.7.6"
  }
 },
 "nbformat": 4,
 "nbformat_minor": 5
}
