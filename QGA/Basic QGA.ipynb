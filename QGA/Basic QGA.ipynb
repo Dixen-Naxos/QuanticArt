{
 "cells": [
  {
   "cell_type": "markdown",
   "metadata": {},
   "source": [
    "# Import Packages\n"
   ]
  },
  {
   "cell_type": "code",
   "execution_count": 55,
   "metadata": {
    "ExecuteTime": {
     "end_time": "2023-10-22T10:13:57.175459800Z",
     "start_time": "2023-10-22T10:13:57.168974700Z"
    }
   },
   "outputs": [],
   "source": [
    "from qiskit import QuantumCircuit, Aer, transpile, assemble\n",
    "from qiskit.visualization import plot_histogram\n",
    "import numpy as np\n",
    "import time"
   ]
  },
  {
   "cell_type": "markdown",
   "metadata": {},
   "source": [
    "# Parameters\n"
   ]
  },
  {
   "cell_type": "code",
   "execution_count": 56,
   "metadata": {
    "ExecuteTime": {
     "end_time": "2023-10-22T10:13:58.985055900Z",
     "start_time": "2023-10-22T10:13:58.980564200Z"
    }
   },
   "outputs": [],
   "source": [
    "population_size = 100\n",
    "gene_length = 4\n",
    "num_generations = 50"
   ]
  },
  {
   "cell_type": "markdown",
   "metadata": {},
   "source": [
    "# Initialize quantum circuit and classical register"
   ]
  },
  {
   "cell_type": "code",
   "execution_count": 57,
   "metadata": {
    "ExecuteTime": {
     "end_time": "2023-10-22T10:13:59.720809200Z",
     "start_time": "2023-10-22T10:13:59.716818400Z"
    }
   },
   "outputs": [],
   "source": [
    "qc = QuantumCircuit(gene_length, gene_length)"
   ]
  },
  {
   "cell_type": "markdown",
   "metadata": {},
   "source": [
    "# Example fitness function\n"
   ]
  },
  {
   "cell_type": "code",
   "execution_count": 58,
   "metadata": {
    "ExecuteTime": {
     "end_time": "2023-10-22T10:14:00.408752400Z",
     "start_time": "2023-10-22T10:14:00.400275400Z"
    }
   },
   "outputs": [],
   "source": [
    "def fitness_function(individual):\n",
    "    return sum(individual)"
   ]
  },
  {
   "cell_type": "markdown",
   "metadata": {},
   "source": [
    "# Quantum Genetic Algorithm"
   ]
  },
  {
   "cell_type": "code",
   "execution_count": 59,
   "metadata": {
    "ExecuteTime": {
     "end_time": "2023-10-22T10:25:08.804052500Z",
     "start_time": "2023-10-22T10:24:13.212612100Z"
    }
   },
   "outputs": [
    {
     "name": "stdout",
     "output_type": "stream",
     "text": [
      "= GENERATION: 0 =\n",
      "Selected Individuals:\n",
      "Binary String: 0101 Fitness: 2\n",
      "Binary String: 0100 Fitness: 1\n",
      "Binary String: 0001 Fitness: 1\n",
      "Binary String: 0000 Fitness: 0\n",
      "= GENERATION: 1 =\n",
      "Selected Individuals:\n",
      "Binary String: 0101 Fitness: 2\n",
      "Binary String: 0100 Fitness: 1\n",
      "Binary String: 0001 Fitness: 1\n",
      "Binary String: 0000 Fitness: 0\n",
      "= GENERATION: 2 =\n",
      "Selected Individuals:\n",
      "Binary String: 0001 Fitness: 1\n",
      "Binary String: 0000 Fitness: 0\n",
      "= GENERATION: 3 =\n",
      "Selected Individuals:\n",
      "Binary String: 0110 Fitness: 2\n",
      "Binary String: 0010 Fitness: 1\n",
      "Binary String: 0100 Fitness: 1\n",
      "Binary String: 0000 Fitness: 0\n",
      "= GENERATION: 4 =\n"
     ]
    },
    {
     "name": "stdout",
     "output_type": "stream",
     "text": [
      "Selected Individuals:\n",
      "Binary String: 0100 Fitness: 1\n",
      "Binary String: 0000 Fitness: 0\n",
      "= GENERATION: 5 =\n",
      "Selected Individuals:\n",
      "Binary String: 0010 Fitness: 1\n",
      "Binary String: 0000 Fitness: 0\n",
      "= GENERATION: 6 =\n",
      "Selected Individuals:\n",
      "Binary String: 0001 Fitness: 1\n",
      "Binary String: 0000 Fitness: 0\n",
      "= GENERATION: 7 =\n",
      "Selected Individuals:\n",
      "Binary String: 1000 Fitness: 1\n",
      "Binary String: 0000 Fitness: 0\n",
      "= GENERATION: 8 =\n",
      "Selected Individuals:\n",
      "Binary String: 0001 Fitness: 1\n",
      "Binary String: 0000 Fitness: 0\n",
      "= GENERATION: 9 =\n",
      "Selected Individuals:\n",
      "Binary String: 1110 Fitness: 3\n",
      "Binary String: 1010 Fitness: 2\n",
      "Binary String: 0110 Fitness: 2\n",
      "Binary String: 1100 Fitness: 2\n",
      "Binary String: 0100 Fitness: 1\n",
      "Binary String: 1000 Fitness: 1\n",
      "Binary String: 0010 Fitness: 1\n",
      "Binary String: 0000 Fitness: 0\n",
      "= GENERATION: 10 =\n",
      "Selected Individuals:\n",
      "Binary String: 1111 Fitness: 4\n",
      "Binary String: 1110 Fitness: 3\n",
      "Binary String: 1101 Fitness: 3\n",
      "Binary String: 1011 Fitness: 3\n",
      "Binary String: 0111 Fitness: 3\n",
      "Binary String: 0110 Fitness: 2\n",
      "Binary String: 1100 Fitness: 2\n",
      "Binary String: 0101 Fitness: 2\n",
      "Binary String: 1001 Fitness: 2\n",
      "Binary String: 0011 Fitness: 2\n",
      "Binary String: 1010 Fitness: 2\n",
      "Binary String: 0001 Fitness: 1\n",
      "Binary String: 0010 Fitness: 1\n",
      "Binary String: 1000 Fitness: 1\n",
      "Binary String: 0100 Fitness: 1\n",
      "Binary String: 0000 Fitness: 0\n",
      "= GENERATION: 11 =\n",
      "Selected Individuals:\n",
      "Binary String: 0101 Fitness: 2\n",
      "Binary String: 0001 Fitness: 1\n",
      "Binary String: 0100 Fitness: 1\n",
      "Binary String: 0000 Fitness: 0\n",
      "= GENERATION: 12 =\n",
      "Selected Individuals:\n",
      "Binary String: 1000 Fitness: 1\n",
      "Binary String: 0000 Fitness: 0\n",
      "= GENERATION: 13 =\n",
      "Selected Individuals:\n",
      "Binary String: 1100 Fitness: 2\n",
      "Binary String: 1000 Fitness: 1\n",
      "Binary String: 0100 Fitness: 1\n",
      "Binary String: 0000 Fitness: 0\n",
      "= GENERATION: 14 =\n",
      "Selected Individuals:\n",
      "Binary String: 0110 Fitness: 2\n",
      "Binary String: 0100 Fitness: 1\n",
      "Binary String: 0010 Fitness: 1\n",
      "Binary String: 0000 Fitness: 0\n"
     ]
    }
   ],
   "source": [
    "# Timer start\n",
    "start_time = time.time()\n",
    "\n",
    "for generation in range(generation_max):\n",
    "    print(f\"= GENERATION: {generation} =\")\n",
    "\n",
    "    # Reset quantum circuit\n",
    "    qc.reset(range(gene_length))\n",
    "\n",
    "    # Randomize initial states using Hadamard gate\n",
    "    for qubit in range(gene_length):\n",
    "        if np.random.rand() < 0.5:\n",
    "            qc.h(qubit)  # Apply Hadamard gate with 50% probability\n",
    "\n",
    "    # Measure and evaluate fitness\n",
    "    qc.measure(range(gene_length), range(gene_length))\n",
    "    sim = Aer.get_backend(\"qasm_simulator\")\n",
    "    result = sim.run(transpile(qc, sim)).result()\n",
    "    counts = result.get_counts()\n",
    "\n",
    "    fitness_values = {\n",
    "        binary_string: fitness_function([int(bit) for bit in binary_string])\n",
    "        for binary_string in counts.keys()\n",
    "    }\n",
    "    # Select top N individuals based on fitness\n",
    "    selected_strings = sorted(\n",
    "        fitness_values.keys(), key=lambda x: fitness_values[x], reverse=True\n",
    "    )[:N]\n",
    "\n",
    "    # Update quantum circuit for selected individuals\n",
    "    qc.reset(range(gene_length))\n",
    "    for binary_string in selected_strings:\n",
    "        for idx, bit in enumerate(binary_string):\n",
    "            if bit == \"1\":\n",
    "                qc.x(idx)  # Apply X-gate for '1' bits\n",
    "        qc.h(range(gene_length))  # Apply Hadamard gate for randomization\n",
    "\n",
    "    print(\"Selected Individuals:\")\n",
    "    for binary_string in selected_strings:\n",
    "        print(\n",
    "            \"Binary String:\", binary_string, \"Fitness:\", fitness_values[binary_string]\n",
    "        )\n",
    "\n",
    "# Timer end\n",
    "end_time = time.time()"
   ]
  },
  {
   "cell_type": "markdown",
   "metadata": {},
   "source": [
    "# Execution time"
   ]
  },
  {
   "cell_type": "code",
   "execution_count": 60,
   "metadata": {},
   "outputs": [
    {
     "name": "stdout",
     "output_type": "stream",
     "text": [
      "Quantum Genetic Algorithm finished in 6.90 seconds.\n"
     ]
    }
   ],
   "source": [
    "elapsed_time = end_time - start_time\n",
    "print(f\"Quantum Genetic Algorithm finished in {elapsed_time:.2f} seconds.\")"
   ]
  },
  {
   "cell_type": "markdown",
   "metadata": {},
   "source": [
    "# Execute the final circuit"
   ]
  },
  {
   "cell_type": "code",
   "execution_count": 61,
   "metadata": {
    "ExecuteTime": {
     "end_time": "2023-10-22T10:04:11.387170700Z",
     "start_time": "2023-10-22T10:04:11.332750100Z"
    }
   },
   "outputs": [
    {
     "name": "stderr",
     "output_type": "stream",
     "text": [
      "/tmp/ipykernel_61863/1242949048.py:5: DeprecationWarning: Using a qobj for run() is deprecated as of qiskit-aer 0.9.0 and will be removed no sooner than 3 months from that release date. Transpiled circuits should now be passed directly using `backend.run(circuits, **run_options).\n",
      "  result = simulator.run(qobj).result()\n"
     ]
    }
   ],
   "source": [
    "qc.measure(range(gene_length), range(gene_length))\n",
    "simulator = Aer.get_backend(\"qasm_simulator\")\n",
    "compiled_qc = transpile(qc, simulator)\n",
    "qobj = assemble(compiled_qc)\n",
    "result = simulator.run(qobj).result()\n",
    "counts = result.get_counts()"
   ]
  },
  {
   "cell_type": "markdown",
   "metadata": {},
   "source": [
    "# Plot the result"
   ]
  },
  {
   "cell_type": "code",
   "execution_count": 62,
   "metadata": {},
   "outputs": [
    {
     "name": "stdout",
     "output_type": "stream",
     "text": [
      "Final Results:\n",
      "{'0010': 1024}\n"
     ]
    },
    {
     "data": {
      "image/png": "[encoded data removed]",
      "text/plain": [
       "<Figure size 700x500 with 1 Axes>"
      ]
     },
     "execution_count": 62,
     "metadata": {},
     "output_type": "execute_result"
    }
   ],
   "source": [
    "print(\"Final Results:\")\n",
    "print(counts)\n",
    "plot_histogram(counts)"
   ]
  }
 ],
 "metadata": {
  "kernelspec": {
   "display_name": "5IABD_Quantic",
   "language": "python",
   "name": "python3"
  },
  "language_info": {
   "codemirror_mode": {
    "name": "ipython",
    "version": 3
   },
   "file_extension": ".py",
   "mimetype": "text/x-python",
   "name": "python",
   "nbconvert_exporter": "python",
   "pygments_lexer": "ipython3",
   "version": "3.11.5"
  }
 },
 "nbformat": 4,
 "nbformat_minor": 2
}
