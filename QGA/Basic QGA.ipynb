{
 "cells": [
  {
   "cell_type": "markdown",
   "metadata": {},
   "source": [
    "**Import Packages**\n"
   ]
  },
  {
   "cell_type": "code",
   "execution_count": 19,
   "metadata": {
    "ExecuteTime": {
     "end_time": "2023-10-22T10:13:57.175459800Z",
     "start_time": "2023-10-22T10:13:57.168974700Z"
    }
   },
   "outputs": [],
   "source": [
    "from qiskit import QuantumCircuit, Aer, transpile, assemble\n",
    "from qiskit.visualization import plot_histogram\n",
    "import numpy as np"
   ]
  },
  {
   "cell_type": "markdown",
   "metadata": {},
   "source": [
    "**Parameters**\n"
   ]
  },
  {
   "cell_type": "code",
   "execution_count": 20,
   "metadata": {
    "ExecuteTime": {
     "end_time": "2023-10-22T10:13:58.985055900Z",
     "start_time": "2023-10-22T10:13:58.980564200Z"
    }
   },
   "outputs": [],
   "source": [
    "N = 50  # Define here the population size\n",
    "genome = 4  # Define here the chromosome length\n",
    "generation_max = 15  # Define here the maximum number of generations/iterations"
   ]
  },
  {
   "cell_type": "markdown",
   "metadata": {},
   "source": [
    "**Init Quantum Population**\n"
   ]
  },
  {
   "cell_type": "code",
   "execution_count": 21,
   "metadata": {
    "ExecuteTime": {
     "end_time": "2023-10-22T10:13:59.720809200Z",
     "start_time": "2023-10-22T10:13:59.716818400Z"
    }
   },
   "outputs": [],
   "source": [
    "# Initialize quantum circuit and classical register\n",
    "qc = QuantumCircuit(genome, genome)"
   ]
  },
  {
   "cell_type": "markdown",
   "metadata": {},
   "source": [
    "**Select Parents**\n"
   ]
  },
  {
   "cell_type": "code",
   "execution_count": 22,
   "metadata": {
    "ExecuteTime": {
     "end_time": "2023-10-22T10:14:00.408752400Z",
     "start_time": "2023-10-22T10:14:00.400275400Z"
    }
   },
   "outputs": [],
   "source": [
    "# Example fitness function\n",
    "def fitness_function(x):\n",
    "    return abs(x - 5 / 2 + np.sin(x))"
   ]
  },
  {
   "cell_type": "markdown",
   "metadata": {},
   "source": [
    "**Genetic Quantum Algorithm**\n"
   ]
  },
  {
   "cell_type": "code",
   "execution_count": 23,
   "metadata": {
    "ExecuteTime": {
     "end_time": "2023-10-22T10:25:08.804052500Z",
     "start_time": "2023-10-22T10:24:13.212612100Z"
    }
   },
   "outputs": [
    {
     "name": "stdout",
     "output_type": "stream",
     "text": [
      "= GENERATION: 0 =\n",
      "Selected Individuals:\n",
      "Binary String: 0000 Fitness: 2.5\n",
      "Binary String: 0010 Fitness: 0.4092974268256817\n",
      "= GENERATION: 1 =\n",
      "Selected Individuals:\n",
      "Binary String: 0000 Fitness: 2.5\n",
      "Binary String: 0101 Fitness: 1.5410757253368614\n",
      "Binary String: 0100 Fitness: 0.7431975046920718\n",
      "Binary String: 0001 Fitness: 0.6585290151921035\n",
      "= GENERATION: 2 =\n",
      "Selected Individuals:\n",
      "Binary String: 0000 Fitness: 2.5\n",
      "Binary String: 0001 Fitness: 0.6585290151921035\n",
      "Binary String: 0011 Fitness: 0.6411200080598672\n",
      "Binary String: 0010 Fitness: 0.4092974268256817\n",
      "= GENERATION: 3 =\n",
      "Selected Individuals:\n",
      "Binary String: 0000 Fitness: 2.5\n",
      "Binary String: 0100 Fitness: 0.7431975046920718\n",
      "= GENERATION: 4 =\n",
      "Selected Individuals:\n",
      "Binary String: 1101 Fitness: 10.92016703682664\n",
      "Binary String: 1100 Fitness: 8.963427081999566\n",
      "Binary String: 1001 Fitness: 6.9121184852417565\n",
      "Binary String: 1000 Fitness: 6.4893582466233815\n",
      "Binary String: 0000 Fitness: 2.5\n",
      "Binary String: 0101 Fitness: 1.5410757253368614\n",
      "Binary String: 0100 Fitness: 0.7431975046920718\n",
      "Binary String: 0001 Fitness: 0.6585290151921035\n",
      "= GENERATION: 5 =\n",
      "Selected Individuals:\n",
      "Binary String: 0000 Fitness: 2.5\n",
      "Binary String: 0010 Fitness: 0.4092974268256817\n",
      "= GENERATION: 6 =\n",
      "Selected Individuals:\n",
      "Binary String: 1110 Fitness: 12.49060735569487\n",
      "Binary String: 1100 Fitness: 8.963427081999566\n",
      "Binary String: 1010 Fitness: 6.9559788891106304\n",
      "Binary String: 1000 Fitness: 6.4893582466233815\n",
      "Binary String: 0110 Fitness: 3.220584501801074\n",
      "Binary String: 0000 Fitness: 2.5\n",
      "Binary String: 0100 Fitness: 0.7431975046920718\n",
      "Binary String: 0010 Fitness: 0.4092974268256817\n",
      "= GENERATION: 7 =\n",
      "Selected Individuals:\n",
      "Binary String: 0000 Fitness: 2.5\n",
      "Binary String: 0100 Fitness: 0.7431975046920718\n",
      "= GENERATION: 8 =\n"
     ]
    },
    {
     "name": "stdout",
     "output_type": "stream",
     "text": [
      "Selected Individuals:\n",
      "Binary String: 1100 Fitness: 8.963427081999566\n",
      "Binary String: 1000 Fitness: 6.4893582466233815\n",
      "Binary String: 0000 Fitness: 2.5\n",
      "Binary String: 0100 Fitness: 0.7431975046920718\n",
      "= GENERATION: 9 =\n",
      "Selected Individuals:\n",
      "Binary String: 0110 Fitness: 3.220584501801074\n",
      "Binary String: 0000 Fitness: 2.5\n",
      "Binary String: 0100 Fitness: 0.7431975046920718\n",
      "Binary String: 0010 Fitness: 0.4092974268256817\n",
      "= GENERATION: 10 =\n",
      "Selected Individuals:\n",
      "Binary String: 1101 Fitness: 10.92016703682664\n",
      "Binary String: 1100 Fitness: 8.963427081999566\n",
      "Binary String: 1001 Fitness: 6.9121184852417565\n",
      "Binary String: 1000 Fitness: 6.4893582466233815\n",
      "Binary String: 0000 Fitness: 2.5\n",
      "Binary String: 0101 Fitness: 1.5410757253368614\n",
      "Binary String: 0100 Fitness: 0.7431975046920718\n",
      "Binary String: 0001 Fitness: 0.6585290151921035\n",
      "= GENERATION: 11 =\n",
      "Selected Individuals:\n",
      "Binary String: 0000 Fitness: 2.5\n",
      "Binary String: 0101 Fitness: 1.5410757253368614\n",
      "Binary String: 0100 Fitness: 0.7431975046920718\n",
      "Binary String: 0001 Fitness: 0.6585290151921035\n",
      "= GENERATION: 12 =\n",
      "Selected Individuals:\n",
      "Binary String: 0110 Fitness: 3.220584501801074\n",
      "Binary String: 0000 Fitness: 2.5\n",
      "Binary String: 0100 Fitness: 0.7431975046920718\n",
      "Binary String: 0010 Fitness: 0.4092974268256817\n",
      "= GENERATION: 13 =\n",
      "Selected Individuals:\n",
      "Binary String: 1010 Fitness: 6.9559788891106304\n",
      "Binary String: 1000 Fitness: 6.4893582466233815\n",
      "Binary String: 0000 Fitness: 2.5\n",
      "Binary String: 0010 Fitness: 0.4092974268256817\n",
      "= GENERATION: 14 =\n",
      "Selected Individuals:\n",
      "Binary String: 1110 Fitness: 12.49060735569487\n",
      "Binary String: 1100 Fitness: 8.963427081999566\n",
      "Binary String: 1010 Fitness: 6.9559788891106304\n",
      "Binary String: 1000 Fitness: 6.4893582466233815\n",
      "Binary String: 0110 Fitness: 3.220584501801074\n",
      "Binary String: 0000 Fitness: 2.5\n",
      "Binary String: 0100 Fitness: 0.7431975046920718\n",
      "Binary String: 0010 Fitness: 0.4092974268256817\n"
     ]
    }
   ],
   "source": [
    "for generation in range(generation_max):\n",
    "    print(f\"= GENERATION: {generation} =\")\n",
    "\n",
    "    # Reset quantum circuit\n",
    "    qc.reset(range(genome))\n",
    "\n",
    "    # Randomize initial states using Hadamard gate\n",
    "    for qubit in range(genome):\n",
    "        if np.random.rand() < 0.5:\n",
    "            qc.h(qubit)  # Apply Hadamard gate with 50% probability\n",
    "\n",
    "    # Measure and evaluate fitness\n",
    "    qc.measure(range(genome), range(genome))\n",
    "    sim = Aer.get_backend(\"qasm_simulator\")\n",
    "    result = sim.run(transpile(qc, sim)).result()\n",
    "    counts = result.get_counts()\n",
    "\n",
    "    fitness_values = {\n",
    "        binary_string: fitness_function(int(binary_string, 2))\n",
    "        for binary_string in counts.keys()\n",
    "    }\n",
    "    # Select top N individuals based on fitness\n",
    "    selected_strings = sorted(\n",
    "        fitness_values.keys(), key=lambda x: fitness_values[x], reverse=True\n",
    "    )[:N]\n",
    "\n",
    "    # Update quantum circuit for selected individuals\n",
    "    qc.reset(range(genome))\n",
    "    for binary_string in selected_strings:\n",
    "        for idx, bit in enumerate(binary_string):\n",
    "            if bit == \"1\":\n",
    "                qc.x(idx)  # Apply X-gate for '1' bits\n",
    "        qc.h(range(genome))  # Apply Hadamard gate for randomization\n",
    "\n",
    "    print(\"Selected Individuals:\")\n",
    "    for binary_string in selected_strings:\n",
    "        print(\n",
    "            \"Binary String:\", binary_string, \"Fitness:\", fitness_values[binary_string]\n",
    "        )"
   ]
  },
  {
   "cell_type": "markdown",
   "metadata": {},
   "source": [
    "**Get Best Individual Per Generation**"
   ]
  },
  {
   "cell_type": "code",
   "execution_count": 24,
   "metadata": {
    "ExecuteTime": {
     "end_time": "2023-10-22T10:04:11.387170700Z",
     "start_time": "2023-10-22T10:04:11.332750100Z"
    }
   },
   "outputs": [
    {
     "name": "stderr",
     "output_type": "stream",
     "text": [
      "/tmp/ipykernel_61863/3784628185.py:5: DeprecationWarning: Using a qobj for run() is deprecated as of qiskit-aer 0.9.0 and will be removed no sooner than 3 months from that release date. Transpiled circuits should now be passed directly using `backend.run(circuits, **run_options).\n",
      "  result = simulator.run(qobj).result()\n"
     ]
    },
    {
     "name": "stdout",
     "output_type": "stream",
     "text": [
      "Final Results:\n",
      "{'0110': 1024}\n"
     ]
    },
    {
     "data": {
      "image/png": "[encoded data removed]",
      "text/plain": [
       "<Figure size 700x500 with 1 Axes>"
      ]
     },
     "execution_count": 24,
     "metadata": {},
     "output_type": "execute_result"
    }
   ],
   "source": [
    "qc.measure(range(genome), range(genome))\n",
    "simulator = Aer.get_backend(\"qasm_simulator\")\n",
    "compiled_qc = transpile(qc, simulator)\n",
    "qobj = assemble(compiled_qc)\n",
    "result = simulator.run(qobj).result()\n",
    "counts = result.get_counts()\n",
    "print(\"Final Results:\")\n",
    "print(counts)\n",
    "plot_histogram(counts)"
   ]
  }
 ],
 "metadata": {
  "kernelspec": {
   "display_name": "5IABD_Quantic",
   "language": "python",
   "name": "python3"
  },
  "language_info": {
   "codemirror_mode": {
    "name": "ipython",
    "version": 3
   },
   "file_extension": ".py",
   "mimetype": "text/x-python",
   "name": "python",
   "nbconvert_exporter": "python",
   "pygments_lexer": "ipython3",
   "version": "3.11.5"
  }
 },
 "nbformat": 4,
 "nbformat_minor": 2
}
