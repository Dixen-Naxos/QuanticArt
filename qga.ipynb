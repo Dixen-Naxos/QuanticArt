{
 "cells": [
  {
   "cell_type": "markdown",
   "metadata": {},
   "source": [
    "**Import Packages**\n"
   ]
  },
  {
   "cell_type": "code",
   "execution_count": 200,
   "metadata": {},
   "outputs": [],
   "source": [
    "from qiskit import QuantumCircuit, Aer, transpile, assemble\n",
    "from qiskit.visualization import plot_histogram\n",
    "import numpy as np\n",
    "import random"
   ]
  },
  {
   "cell_type": "markdown",
   "metadata": {},
   "source": [
    "**Parameters**\n"
   ]
  },
  {
   "cell_type": "code",
   "execution_count": 201,
   "metadata": {},
   "outputs": [],
   "source": [
    "population_size = 10\n",
    "num_generations = 100\n",
    "num_qubits = 5\n",
    "mutation_rate = 0.01"
   ]
  },
  {
   "cell_type": "markdown",
   "metadata": {},
   "source": [
    "**Init Quantum Population**\n"
   ]
  },
  {
   "cell_type": "code",
   "execution_count": 202,
   "metadata": {},
   "outputs": [],
   "source": [
    "population = []\n",
    "# Create the initial population\n",
    "for _ in range(population_size):\n",
    "    # Create a quantum circuit acting on the q register\n",
    "    individual = QuantumCircuit(num_qubits, num_qubits)\n",
    "    individual.h(range(num_qubits))\n",
    "    population.append(individual)"
   ]
  },
  {
   "cell_type": "markdown",
   "metadata": {},
   "source": [
    "**Select Parents**\n"
   ]
  },
  {
   "cell_type": "code",
   "execution_count": 203,
   "metadata": {},
   "outputs": [],
   "source": [
    "def select_parents(population, fitness_scores):\n",
    "    # Calculate the probability of each individual being selected\n",
    "    fitness_probs = (\n",
    "        np.ones(len(fitness_scores)) / len(fitness_scores)\n",
    "        if np.sum(fitness_scores) == 0\n",
    "        else fitness_scores / np.sum(fitness_scores)\n",
    "    )\n",
    "    \n",
    "    parents = []\n",
    "    # Select two parents\n",
    "    for _ in range(len(population) // 2):\n",
    "        # Select first parent\n",
    "        rand_num = random.random()\n",
    "        # Find the first parent\n",
    "        cumulative_prob = 0\n",
    "        # Loop through the fitness probabilities\n",
    "        for idx, prob in enumerate(fitness_probs):\n",
    "            # Add the probability to the running sum\n",
    "            cumulative_prob += prob\n",
    "            # Check if the running sum exceeds the random number\n",
    "            if cumulative_prob >= rand_num:\n",
    "                parents.append(population[idx])\n",
    "                break\n",
    "    return parents"
   ]
  },
  {
   "cell_type": "markdown",
   "metadata": {},
   "source": [
    "**Crossover**\n"
   ]
  },
  {
   "cell_type": "code",
   "execution_count": 204,
   "metadata": {},
   "outputs": [],
   "source": [
    "def crossover(parents, population_size, num_qubits):\n",
    "    offspring = []\n",
    "    for _ in range(population_size - len(parents)):\n",
    "        # Select two parents at random\n",
    "        parent1, parent2 = random.choice(parents), random.choice(parents)\n",
    "        child = QuantumCircuit(num_qubits, num_qubits)\n",
    "\n",
    "        # Apply CNOT gates for the selected control and target qubits from parent1 and parent2\n",
    "        control_qubits = random.sample(range(num_qubits), num_qubits // 2)\n",
    "        target_qubits = [q for q in range(num_qubits) if q not in control_qubits]\n",
    "\n",
    "        # Apply CNOT gates for crossover using parent1 and parent2\n",
    "        for control, target in zip(control_qubits, target_qubits):\n",
    "            child.cx(parent1.qubits[control], parent2.qubits[target])\n",
    "\n",
    "        offspring.append(child)\n",
    "    return offspring"
   ]
  },
  {
   "cell_type": "markdown",
   "metadata": {},
   "source": [
    "**Mutation**\n"
   ]
  },
  {
   "cell_type": "code",
   "execution_count": 205,
   "metadata": {},
   "outputs": [],
   "source": [
    "def mutate(offspring, mutation_rate, num_qubits):\n",
    "    for individual in offspring:\n",
    "        if random.random() < mutation_rate:\n",
    "            # Flip the qubit\n",
    "            qubit_to_flip = random.randint(0, num_qubits - 1)\n",
    "            individual.x(qubit_to_flip)\n",
    "    return offspring"
   ]
  },
  {
   "cell_type": "markdown",
   "metadata": {},
   "source": [
    "**Quantum Evaluation**\n"
   ]
  },
  {
   "cell_type": "code",
   "execution_count": 206,
   "metadata": {},
   "outputs": [],
   "source": [
    "def evaluate(individual):\n",
    "    # Here, copy of individual is created to avoid modifying the original circuit\n",
    "    qc = individual.copy()\n",
    "    qc.measure(range(num_qubits), range(num_qubits))\n",
    "    simulator = Aer.get_backend(\"qasm_simulator\")\n",
    "    job = assemble(transpile(qc, simulator))\n",
    "    result = simulator.run(job).result()\n",
    "    counts = result.get_counts(qc)\n",
    "    # Return the number of '1's as fitness value\n",
    "    return counts.get(\"1\", 0)"
   ]
  },
  {
   "cell_type": "markdown",
   "metadata": {},
   "source": [
    "**Genetic Quantum Algorithm**\n"
   ]
  },
  {
   "cell_type": "code",
   "execution_count": 207,
   "metadata": {},
   "outputs": [
    {
     "name": "stderr",
     "output_type": "stream",
     "text": [
      "/tmp/ipykernel_12316/324878854.py:7: DeprecationWarning: Using a qobj for run() is deprecated as of qiskit-aer 0.9.0 and will be removed no sooner than 3 months from that release date. Transpiled circuits should now be passed directly using `backend.run(circuits, **run_options).\n",
      "  result = simulator.run(job).result()\n"
     ]
    }
   ],
   "source": [
    "# Can be modified to run on a while loop until the fitness value is reached\n",
    "for _ in range(num_generations):\n",
    "    # Evaluate the fitness of each individual in the population\n",
    "    fitness_scores = np.array([evaluate(individual) for individual in population])\n",
    "    # Select the parents\n",
    "    parents = select_parents(population, fitness_scores)\n",
    "    # Generate the offspring\n",
    "    offspring = crossover(parents, population_size, num_qubits)\n",
    "    # Mutate the offspring\n",
    "    offspring = mutate(offspring, mutation_rate, num_qubits)\n",
    "    # Add the parents to the offspring\n",
    "    population = parents + offspring"
   ]
  },
  {
   "cell_type": "markdown",
   "metadata": {},
   "source": [
    "**Get Best Individual Per Generation**"
   ]
  },
  {
   "cell_type": "code",
   "execution_count": 208,
   "metadata": {},
   "outputs": [
    {
     "name": "stderr",
     "output_type": "stream",
     "text": [
      "/tmp/ipykernel_12316/324878854.py:7: DeprecationWarning: Using a qobj for run() is deprecated as of qiskit-aer 0.9.0 and will be removed no sooner than 3 months from that release date. Transpiled circuits should now be passed directly using `backend.run(circuits, **run_options).\n",
      "  result = simulator.run(job).result()\n"
     ]
    }
   ],
   "source": [
    "best_individual = max(population, key=evaluate)"
   ]
  },
  {
   "cell_type": "markdown",
   "metadata": {},
   "source": [
    "**Visualize Results**\n"
   ]
  },
  {
   "cell_type": "code",
   "execution_count": 209,
   "metadata": {},
   "outputs": [
    {
     "data": {
      "image/png": "[encoded data removed]",
      "text/plain": [
       "<Figure size 287.496x535.111 with 1 Axes>"
      ]
     },
     "execution_count": 209,
     "metadata": {},
     "output_type": "execute_result"
    }
   ],
   "source": [
    "# Draw the circuit\n",
    "best_individual.draw(output=\"mpl\")"
   ]
  },
  {
   "cell_type": "code",
   "execution_count": 210,
   "metadata": {},
   "outputs": [
    {
     "name": "stdout",
     "output_type": "stream",
     "text": [
      "0\n"
     ]
    },
    {
     "name": "stderr",
     "output_type": "stream",
     "text": [
      "/tmp/ipykernel_12316/324878854.py:7: DeprecationWarning: Using a qobj for run() is deprecated as of qiskit-aer 0.9.0 and will be removed no sooner than 3 months from that release date. Transpiled circuits should now be passed directly using `backend.run(circuits, **run_options).\n",
      "  result = simulator.run(job).result()\n"
     ]
    }
   ],
   "source": [
    "# Evaluate the best individual\n",
    "print(evaluate(best_individual))"
   ]
  },
  {
   "cell_type": "markdown",
   "metadata": {},
   "source": [
    "**Measure Best Individual**"
   ]
  },
  {
   "cell_type": "code",
   "execution_count": 211,
   "metadata": {},
   "outputs": [
    {
     "data": {
      "text/plain": [
       "<qiskit.circuit.instructionset.InstructionSet at 0x7f25416f34c0>"
      ]
     },
     "execution_count": 211,
     "metadata": {},
     "output_type": "execute_result"
    }
   ],
   "source": [
    "best_individual.measure(range(num_qubits), range(num_qubits))"
   ]
  },
  {
   "cell_type": "markdown",
   "metadata": {},
   "source": [
    "**Running**"
   ]
  },
  {
   "cell_type": "code",
   "execution_count": 212,
   "metadata": {},
   "outputs": [
    {
     "name": "stderr",
     "output_type": "stream",
     "text": [
      "/tmp/ipykernel_12316/3724784198.py:4: DeprecationWarning: Using a qobj for run() is deprecated as of qiskit-aer 0.9.0 and will be removed no sooner than 3 months from that release date. Transpiled circuits should now be passed directly using `backend.run(circuits, **run_options).\n",
      "  result = backend.run(assembled_circuit).result()\n"
     ]
    }
   ],
   "source": [
    "backend = Aer.get_backend(\"qasm_simulator\")\n",
    "transpiled_circuit = transpile(best_individual, backend)\n",
    "assembled_circuit = assemble(transpiled_circuit, shots=1024)\n",
    "result = backend.run(assembled_circuit).result()\n",
    "counts = result.get_counts(best_individual)"
   ]
  },
  {
   "cell_type": "markdown",
   "metadata": {},
   "source": [
    "**Visualize Results**"
   ]
  },
  {
   "cell_type": "code",
   "execution_count": 213,
   "metadata": {},
   "outputs": [
    {
     "data": {
      "text/plain": [
       "{'00000': 1024}"
      ]
     },
     "execution_count": 213,
     "metadata": {},
     "output_type": "execute_result"
    }
   ],
   "source": [
    "# Count the number of times each result appears\n",
    "counts"
   ]
  },
  {
   "cell_type": "code",
   "execution_count": 214,
   "metadata": {},
   "outputs": [
    {
     "data": {
      "image/png": "[encoded data removed]",
      "text/plain": [
       "<Figure size 700x500 with 1 Axes>"
      ]
     },
     "execution_count": 214,
     "metadata": {},
     "output_type": "execute_result"
    }
   ],
   "source": [
    "plot_histogram(counts)\n"
   ]
  }
 ],
 "metadata": {
  "kernelspec": {
   "display_name": "5IABD_Quantic",
   "language": "python",
   "name": "python3"
  },
  "language_info": {
   "codemirror_mode": {
    "name": "ipython",
    "version": 3
   },
   "file_extension": ".py",
   "mimetype": "text/x-python",
   "name": "python",
   "nbconvert_exporter": "python",
   "pygments_lexer": "ipython3",
   "version": "3.11.5"
  }
 },
 "nbformat": 4,
 "nbformat_minor": 2
}
